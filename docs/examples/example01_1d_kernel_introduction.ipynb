{
 "cells": [
  {
   "cell_type": "markdown",
   "id": "f063dffe",
   "metadata": {},
   "source": [
    "# 1D kernel basics\n",
    "\n",
    "This example will cover:\n",
    "\n",
    " - Initialising the GPtide class with a kernel and some 1D data\n",
    " - Sampling from the prior\n",
    " - Making a prediction at new points\n",
    " - Sampling from the conditional distribution"
   ]
  },
  {
   "cell_type": "code",
   "execution_count": 1,
   "id": "ad0745e3",
   "metadata": {},
   "outputs": [],
   "source": [
    "from gptide import cov\n",
    "from gptide.gpscipy import GPtideScipy\n",
    "import numpy as np\n",
    "import matplotlib.pyplot as plt"
   ]
  },
  {
   "cell_type": "markdown",
   "id": "ef043045",
   "metadata": {},
   "source": [
    "We use an exponential-quadratic  kernel with a length scale $\\ell$ = 100 and variance $\\eta$ = $1.5^2$. The noise ($\\sigma$) is 0.5. The total length of the domain is 2500 and we sample 100 data points."
   ]
  },
  {
   "cell_type": "code",
   "execution_count": 2,
   "id": "6a64bbbd",
   "metadata": {},
   "outputs": [],
   "source": [
    "####\n",
    "# These are our kernel input parameters\n",
    "noise = 0.5\n",
    "η = 1.5\n",
    "ℓ = 100\n",
    "covfunc = cov.expquad_1d\n",
    "\n",
    "###\n",
    "# Domain size parameters\n",
    "dx = 25.\n",
    "N = 100\n",
    "covparams = (η, ℓ)\n",
    "\n",
    "# Input data points\n",
    "xd = np.arange(0,dx*N,dx)[:,None]\n",
    "\n"
   ]
  },
  {
   "cell_type": "markdown",
   "id": "806fb022",
   "metadata": {},
   "source": [
    "## Initialise the GPtide object and sample from the prior"
   ]
  },
  {
   "cell_type": "code",
   "execution_count": null,
   "id": "117e346b",
   "metadata": {},
   "outputs": [],
   "source": [
    "GP = GPtideScipy(xd, xd, noise, covfunc, covparams)\n",
    "\n",
    "# Use the .prior() method to obtain some samples\n",
    "yd = GP.prior(samples=1)\n",
    "\n",
    "plt.figure()\n",
    "plt.plot(xd, yd,'.')\n",
    "plt.ylabel('some data')\n",
    "plt.xlabel('x')"
   ]
  },
  {
   "cell_type": "markdown",
   "id": "a51838a5",
   "metadata": {},
   "source": [
    "## Make a prediction at new points"
   ]
  },
  {
   "cell_type": "code",
   "execution_count": null,
   "id": "7f56c41f",
   "metadata": {},
   "outputs": [],
   "source": [
    "# Output data points \n",
    "xo = np.linspace(-10*dx,dx*N+dx*10,N*10)[:,None]\n",
    "\n",
    "# Create a new object with the output points\n",
    "GP2 = GPtideScipy(xd, xo, noise, covfunc, covparams)\n",
    "\n",
    "# Predict the mean\n",
    "y_mu = GP2(yd)\n",
    "\n",
    "plt.figure()\n",
    "plt.plot(xd, yd,'.')\n",
    "plt.plot(xo, y_mu,'k--')\n",
    "\n",
    "plt.legend(('Input data','GP prediction'))\n",
    "plt.ylabel('some data')\n",
    "plt.xlabel('x')"
   ]
  },
  {
   "cell_type": "markdown",
   "id": "d2c8851e",
   "metadata": {},
   "source": [
    "## Make a prediction of the full conditional distribution at new points"
   ]
  },
  {
   "cell_type": "code",
   "execution_count": null,
   "id": "d7c175bb",
   "metadata": {},
   "outputs": [],
   "source": [
    "samples = 100\n",
    "y_conditional = GP2.conditional(yd, samples=samples)\n",
    "\n",
    "plt.figure()\n",
    "plt.plot(xd, yd,'.')\n",
    "plt.plot(xo, y_mu,'k--')\n",
    "\n",
    "for ii in range(samples):\n",
    "    plt.plot(xo[:,0], y_conditional[:,ii],'0.5',lw=0.2, alpha=0.2)\n",
    "    \n",
    "plt.legend(('Input data','GP prediction','GP conditional'))\n"
   ]
  },
  {
   "cell_type": "markdown",
   "id": "3ac93e69",
   "metadata": {},
   "source": [
    "You can see from above how the mean prediction returns to zero in the extrapolation region whereas the conditional samples reverts to the prior i.e. it goes all over the place.\n"
   ]
  },
  {
   "cell_type": "code",
   "execution_count": null,
   "id": "c25238dd",
   "metadata": {},
   "outputs": [],
   "source": []
  }
 ],
 "metadata": {
  "kernelspec": {
   "display_name": "Python 3 (ipykernel)",
   "language": "python",
   "name": "python3"
  },
  "language_info": {
   "codemirror_mode": {
    "name": "ipython",
    "version": 3
   },
   "file_extension": ".py",
   "mimetype": "text/x-python",
   "name": "python",
   "nbconvert_exporter": "python",
   "pygments_lexer": "ipython3",
   "version": "3.10.4"
  }
 },
 "nbformat": 4,
 "nbformat_minor": 5
}
