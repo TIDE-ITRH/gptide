{
 "cells": [
  {
   "cell_type": "markdown",
   "id": "50176287",
   "metadata": {},
   "source": [
    "# 1D parameter estimation using MCMC\n",
    "\n",
    "This example will cover:\n",
    "\n",
    " - Use MCMC to infer kernel paramaters\n",
    " - Finding sample with highest log-prob from the mcmc chain\n",
    " - Visualising results of sampling\n",
    " - Making predictions\n"
   ]
  },
  {
   "cell_type": "code",
   "execution_count": null,
   "id": "ba0576fc",
   "metadata": {},
   "outputs": [],
   "source": [
    "from gptide import cov\n",
    "from gptide import GPtideScipy\n",
    "import numpy as np\n",
    "import matplotlib.pyplot as plt\n",
    "\n",
    "import corner\n",
    "import arviz as az\n",
    "\n",
    "from scipy import stats\n",
    "from gptide import stats as gpstats\n"
   ]
  },
  {
   "cell_type": "markdown",
   "id": "4040e87d",
   "metadata": {},
   "source": [
    "## Generate some data"
   ]
  },
  {
   "cell_type": "code",
   "execution_count": null,
   "id": "0b153f56",
   "metadata": {},
   "outputs": [],
   "source": [
    "####\n",
    "# These are our kernel input parameters\n",
    "np.random.seed(1)\n",
    "noise = 0.5\n",
    "η = 10\n",
    "ℓ_x = 900\n",
    "ℓ_y = 1800\n",
    "\n",
    "dx = 200.\n",
    "dy = 400.\n",
    "\n",
    "def kernel_2d(x, xpr, params):\n",
    "    \"\"\"\n",
    "    2D kernel\n",
    "    \n",
    "    Inputs:\n",
    "        x: matrices input points [N,3]\n",
    "        xpr: matrices output points [M,3]\n",
    "        params: tuple length 3\n",
    "            eta: standard deviation\n",
    "            lx: x length scale\n",
    "            ly: y length scale\n",
    "            \n",
    "    \"\"\"\n",
    "    eta, lx, ly = params\n",
    "    \n",
    "    # Build the covariance matrix\n",
    "    C  = cov.matern32(x[:,1,None], xpr.T[:,1,None].T, ly) \n",
    "    C *= cov.matern32(x[:,0,None], xpr.T[:,0,None].T, lx)\n",
    "    C *= eta**2 \n",
    "    \n",
    "    return C\n",
    "\n",
    "covfunc = kernel_2d\n",
    "\n",
    "###\n",
    "# Domain size parameters\n",
    "N = 10\n",
    "\n",
    "covparams = (η, ℓ_x, ℓ_y)\n",
    "\n",
    "# Input data points\n",
    "xd = np.arange(0,dx*N,dx)[:,None]-dx/2\n",
    "yd = np.arange(0,dy*N,dy)[:,None]-dy/2\n",
    "\n",
    "# Make a grid\n",
    "Xg, Yg = np.meshgrid(xd, yd)\n",
    "\n",
    "# Vectorise grid and stack\n",
    "Xv = Xg.ravel()\n",
    "Yv = Yg.ravel()\n",
    "X = np.hstack([Xv[:,None], Yv[:,None]])\n",
    "\n",
    "GP = GPtideScipy(X, X.copy(), noise, covfunc, covparams)\n",
    "\n",
    "# Use the .prior() method to obtain some samples\n",
    "zd = GP.prior(samples=1)\n",
    "zg = zd.reshape(Xg.shape)"
   ]
  },
  {
   "cell_type": "code",
   "execution_count": null,
   "id": "515fe0bf",
   "metadata": {},
   "outputs": [],
   "source": [
    "plt.figure()\n",
    "plt.scatter(Xg, Yg, c=zg)\n",
    "plt.ylabel('y')\n",
    "plt.xlabel('x')\n",
    "plt.title('Noisy Matern 3/2')\n",
    "plt.colorbar(label='some data')\n",
    "plt.gca().set_aspect('equal')"
   ]
  },
  {
   "cell_type": "markdown",
   "id": "2542bb6f",
   "metadata": {},
   "source": [
    "## Inference"
   ]
  },
  {
   "cell_type": "markdown",
   "id": "0197a84e",
   "metadata": {},
   "source": [
    "We now use the `gptide.mcmc` function do the parameter estimation. This uses the `emcee.EnsembleSampler` class.\n"
   ]
  },
  {
   "cell_type": "code",
   "execution_count": null,
   "id": "bbd4da06",
   "metadata": {},
   "outputs": [],
   "source": [
    "from gptide import mcmc\n",
    "n = len(xd)\n",
    "covparams"
   ]
  },
  {
   "cell_type": "code",
   "execution_count": null,
   "id": "561a3727",
   "metadata": {
    "scrolled": false
   },
   "outputs": [],
   "source": [
    "# Initial guess of the noise and covariance parameters (these can matter)\n",
    "\n",
    "noise_prior      = [gpstats.truncnorm(0.4, 0.25, 1e-15, 1)]           # noise - true value 0.5\n",
    "covparams_priors = [gpstats.truncnorm(8, 3, 2, 14),                   # eta   - true value 10\n",
    "                    gpstats.truncnorm(600, 200, 1e-15, 1e4),           # ℓ_x - true value 900\n",
    "                    gpstats.truncnorm(1400, 250, 1e-15, 1e4)           # ℓ_y - true value 1800\n",
    "                   ]\n",
    "\n",
    "meanparams_priors = []\n",
    "\n",
    "# There is no mean function in this case\n",
    "meanfunc = None\n",
    "\n",
    "priors  = noise_prior+covparams_priors+meanparams_priors \n",
    "ncovparams = len(noise_prior) + len(covparams_priors)\n",
    "\n",
    "samples, log_prob, priors_out, sampler = mcmc.mcmc( X, \n",
    "                                                    zd, \n",
    "                                                    covfunc, \n",
    "                                                    meanfunc, \n",
    "                                                    priors,\n",
    "                                                    ncovparams,\n",
    "                                                    nwarmup=30,\n",
    "                                                    niter=100,\n",
    "                                                    verbose=False)\n",
    "\n"
   ]
  },
  {
   "cell_type": "markdown",
   "id": "574d215f",
   "metadata": {},
   "source": [
    "## Find sample with highest log prob"
   ]
  },
  {
   "cell_type": "code",
   "execution_count": null,
   "id": "85da7920",
   "metadata": {},
   "outputs": [],
   "source": [
    "i = np.argmax(log_prob)\n",
    "MAP = samples[i, :]\n",
    "\n",
    "print('Noise (true): {:3.2f},  Noise (mcmc): {:3.2f}'.format(noise, MAP[0]))\n",
    "print('η   (true):   {:3.2f},  η     (mcmc): {:3.2f}'.format(covparams[0],  MAP[1]))\n",
    "print('ℓ_x (true):   {:3.2f},  ℓ_x   (mcmc): {:3.2f}'.format(covparams[1],  MAP[2]))\n",
    "print('ℓ_y (true):   {:3.2f},  ℓ_y   (mcmc): {:3.2f}'.format(covparams[2],  MAP[3])) \n"
   ]
  },
  {
   "cell_type": "code",
   "execution_count": null,
   "id": "7c381886",
   "metadata": {},
   "outputs": [],
   "source": [
    "i = np.argmax(log_prob)\n",
    "MAP = samples[i, :]\n",
    "\n",
    "print('Noise (true): {:3.2f},  Noise (mcmc): {:3.2f}'.format(noise, MAP[0]))\n",
    "print('η   (true):   {:3.2f},  η     (mcmc): {:3.2f}'.format(covparams[0],  MAP[1]))\n",
    "print('ℓ_x (true):   {:3.2f},  ℓ_x   (mcmc): {:3.2f}'.format(covparams[1],  MAP[2]))\n",
    "print('ℓ_y (true):   {:3.2f},  ℓ_y   (mcmc): {:3.2f}'.format(covparams[2],  MAP[3])) \n"
   ]
  },
  {
   "cell_type": "markdown",
   "id": "cc667624",
   "metadata": {},
   "source": [
    "## Posterior density plot"
   ]
  },
  {
   "cell_type": "code",
   "execution_count": null,
   "id": "aba4faee",
   "metadata": {},
   "outputs": [],
   "source": [
    "labels = ['σ','η','ℓ_x', 'ℓ_y']\n",
    "def convert_to_az(d, labels):\n",
    "    output = {}\n",
    "    for ii, ll in enumerate(labels):\n",
    "        output.update({ll:d[:,ii]})\n",
    "    return az.convert_to_dataset(output)\n",
    "\n",
    "priors_out_az = convert_to_az(priors_out, labels)\n",
    "samples_az    = convert_to_az(samples, labels)\n",
    "\n",
    "axs = az.plot_density(   [samples_az[labels], \n",
    "                         priors_out_az[labels]],\n",
    "                         shade=0.1,\n",
    "                         grid=(1, 5),\n",
    "                         textsize=12,\n",
    "                         figsize=(12,3),\n",
    "                         data_labels=('posterior','prior'),\n",
    "                         hdi_prob=0.995)\n"
   ]
  },
  {
   "cell_type": "markdown",
   "id": "214eb8bc",
   "metadata": {},
   "source": [
    "## Posterior corner plot"
   ]
  },
  {
   "cell_type": "code",
   "execution_count": null,
   "id": "d54ec867",
   "metadata": {},
   "outputs": [],
   "source": [
    "fig = corner.corner(samples, \n",
    "                    show_titles=True,\n",
    "                    labels=labels,\n",
    "                    plot_datapoints=True,\n",
    "                    quantiles=[0.16, 0.5, 0.84])"
   ]
  },
  {
   "cell_type": "markdown",
   "id": "02c3f8cd",
   "metadata": {},
   "source": [
    "## Condition and make predictions"
   ]
  },
  {
   "cell_type": "code",
   "execution_count": null,
   "id": "f5968a01",
   "metadata": {
    "scrolled": false
   },
   "outputs": [],
   "source": [
    "plt.figure(figsize=(8, 8))\n",
    "plt.ylabel('y')\n",
    "plt.xlabel('x')\n",
    "\n",
    "# xo = np.arange(0,dx*N,dx/3)[:,None]\n",
    "xdo = np.arange(-dx*0.5*N, dx*1.2*N, dx/4)[:,None]\n",
    "ydo = np.arange(-dy*0.2*N, dy*1.2*N, dy/4)[:,None]\n",
    "\n",
    "# Make a grid\n",
    "Xgo, Ygo = np.meshgrid(xdo, ydo)\n",
    "\n",
    "# Vectorise grid and stack\n",
    "Xvo = Xgo.ravel()\n",
    "Yvo = Ygo.ravel()\n",
    "Xo = np.hstack([Xvo[:,None], Yvo[:,None]])\n",
    "    \n",
    "OI = GPtideScipy(X, Xo, 0, covfunc, MAP[1:], \n",
    "             P=1, mean_func=None)\n",
    "out_map = OI.conditional(zd)\n",
    "\n",
    "plt.scatter(Xgo, Ygo, c=out_map, alpha=1)\n",
    "plt.scatter(Xg, Yg,   c=zg, s=100, edgecolors='k')\n",
    "\n",
    "plt.grid()\n",
    "plt.gca().set_aspect('equal')\n",
    "plt.colorbar()"
   ]
  },
  {
   "cell_type": "code",
   "execution_count": null,
   "id": "09a2db94",
   "metadata": {},
   "outputs": [],
   "source": []
  }
 ],
 "metadata": {
  "kernelspec": {
   "display_name": "Python 3 (ipykernel)",
   "language": "python",
   "name": "python3"
  },
  "language_info": {
   "codemirror_mode": {
    "name": "ipython",
    "version": 3
   },
   "file_extension": ".py",
   "mimetype": "text/x-python",
   "name": "python",
   "nbconvert_exporter": "python",
   "pygments_lexer": "ipython3",
   "version": "3.10.4"
  }
 },
 "nbformat": 4,
 "nbformat_minor": 5
}
